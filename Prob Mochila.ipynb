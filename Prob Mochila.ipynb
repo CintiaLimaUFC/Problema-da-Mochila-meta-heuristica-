{
 "cells": [
  {
   "cell_type": "code",
   "execution_count": 1,
   "metadata": {},
   "outputs": [],
   "source": [
    "import numpy as np\n",
    "import random \n",
    "import pandas\n",
    "from random import uniform, randint\n",
    "from datetime import datetime\n",
    "import os\n",
    "import random\n",
    "import math"
   ]
  },
  {
   "cell_type": "code",
   "execution_count": 2,
   "metadata": {},
   "outputs": [],
   "source": [
    "def inti_variables(capacidade):\n",
    "    \n",
    "    cap = capacidade\n",
    "    path_name = \"CapacidadeMochila\"+str(cap)\n",
    "    lucro_file = open(path_name+\"\\lucro.txt\", 'r').readlines()\n",
    "    peso_file = open(path_name+\"\\peso.txt\", 'r').readlines()\n",
    "\n",
    "    lucros = []\n",
    "    for l in lucro_file:\n",
    "        lucros.append(float(l))\n",
    "\n",
    "    pesos = []\n",
    "    for l in peso_file:\n",
    "        pesos.append(float(l))\n",
    "    \n",
    "    beneficios = []\n",
    "    for i in range(len(lucros)):\n",
    "        beneficios.append((lucros[i]/pesos[i], i))\n",
    "\n",
    "    beneficios.sort(reverse=True)\n",
    "        \n",
    "    return beneficios, pesos, lucros"
   ]
  },
  {
   "cell_type": "code",
   "execution_count": 3,
   "metadata": {},
   "outputs": [],
   "source": [
    "def solucao_inicial():\n",
    "    peso_usado = 0 \n",
    "    itens_selecionados = [0 for i in pesos]\n",
    "    i = 0\n",
    "    \n",
    "    while peso_usado < capacidade and i < len(pesos):\n",
    "        item = beneficios[i][1]\n",
    "        if peso_usado + pesos[item] < capacidade:\n",
    "            peso_usado += pesos[item]\n",
    "            itens_selecionados[item] = 1\n",
    "        i+=1\n",
    "        \n",
    "    soma_pesos = 0\n",
    "    for p in range(len(itens_selecionados)):\n",
    "        if itens_selecionados[p]:\n",
    "            soma_pesos += pesos[p]\n",
    "\n",
    "    soma_lucros = 0\n",
    "    for p in range(len(itens_selecionados)):\n",
    "        if itens_selecionados[p]:\n",
    "            soma_lucros += lucros[p]  \n",
    "    \n",
    "    return itens_selecionados, soma_lucros, soma_pesos"
   ]
  },
  {
   "cell_type": "code",
   "execution_count": 17,
   "metadata": {},
   "outputs": [],
   "source": [
    "def busca_vizinhanca(solucao, total_loops, total_random):\n",
    "    sol = [i for i in solucao]\n",
    "    melhor_lucro = 0\n",
    "    melhor_peso = 0\n",
    "    cont = 0\n",
    "    for p in range(len(sol)):\n",
    "        if sol[p]:\n",
    "            melhor_lucro += lucros[p] \n",
    "            melhor_peso += pesos[p]\n",
    "\n",
    "    for cont in range(0,total_loops):\n",
    "        trade_variables = set()\n",
    "        \n",
    "        for k in range(total_random):\n",
    "            a1 = random.randint(0, len(pesos)-1)\n",
    "            while a1 in trade_variables:\n",
    "                a1 = random.randint(0, len(pesos)-1)\n",
    "\n",
    "            if sol[a1] == 1:\n",
    "                sol[a1] = 0\n",
    "            else:\n",
    "                sol[a1] = 1\n",
    "                \n",
    "            trade_variables.add(a1)\n",
    "\n",
    "    \n",
    "        soma_pesos = 0\n",
    "        for p in range(len(sol)):\n",
    "            if sol[p]:\n",
    "                soma_pesos += pesos[p]\n",
    "            \n",
    "        soma_lucros = 0\n",
    "        for p in range(len(sol)):\n",
    "            if sol[p]:\n",
    "                soma_lucros += lucros[p]   \n",
    "            \n",
    "        if soma_pesos <= capacidade and soma_lucros > melhor_lucro:\n",
    "            \n",
    "            melhor_lucro = soma_lucros\n",
    "            melhor_peso = soma_pesos\n",
    "            solucao = [i for i in sol]\n",
    "            print(solucao, melhor_lucro, melhor_peso)\n",
    "            \n",
    "    return solucao, melhor_lucro, melhor_peso"
   ]
  },
  {
   "cell_type": "code",
   "execution_count": 5,
   "metadata": {},
   "outputs": [],
   "source": [
    "def simulated_annealing(T, cooling, L):\n",
    "\n",
    "    current_solution, current_lucro, current_peso =  solucao_inicial()\n",
    "    best_solution, best_lucro, best_peso = current_solution, current_lucro, current_peso\n",
    "\n",
    "    \n",
    "\n",
    "    while round(T,10) > 0.0:\n",
    "        for count in range(0,L):\n",
    "            new_solution, new_lucro, new_peso = busca_vizinhanca(current_solution, 1, random.randint(1,len(current_solution)-1))\n",
    "            \n",
    "            delta_f = new_lucro - current_lucro\n",
    "            \n",
    "            if delta_f > 0: \n",
    "                current_solution, current_lucro, current_peso =  new_solution, new_lucro, new_peso\n",
    "                if current_lucro > best_lucro:\n",
    "                    best_solution, best_lucro, best_peso = current_solution, current_lucro, current_peso\n",
    "            else:\n",
    "                if uniform(0,1) < math.exp((-delta_f)/T):\n",
    "                    current_solution, current_lucro, current_peso =  new_solution, new_lucro, new_peso\n",
    "                    \n",
    "        T = T*cooling\n",
    "        \n",
    "    return best_solution, best_lucro, best_peso\n",
    "        "
   ]
  },
  {
   "cell_type": "markdown",
   "metadata": {},
   "source": [
    "________________\n",
    "## Capacidade Mochila 170"
   ]
  },
  {
   "cell_type": "markdown",
   "metadata": {},
   "source": [
    "### Hill Climbing"
   ]
  },
  {
   "cell_type": "code",
   "execution_count": 18,
   "metadata": {},
   "outputs": [
    {
     "name": "stdout",
     "output_type": "stream",
     "text": [
      "[0, 1, 1, 0, 0, 0, 1] 1653.0 159.0\n",
      "[0, 0, 1, 0, 1, 0, 1] 1674.0 164.0\n",
      "[0, 0, 1, 1, 0, 0, 1] 1721.0 168.0\n",
      "[0, 1, 0, 1, 0, 0, 1] 1735.0 169.0\n"
     ]
    },
    {
     "data": {
      "text/plain": [
       "([0, 1, 0, 1, 0, 0, 1], 1735.0, 169.0)"
      ]
     },
     "execution_count": 18,
     "metadata": {},
     "output_type": "execute_result"
    }
   ],
   "source": [
    "capacidade = 170\n",
    "beneficios, pesos, lucros = inti_variables(capacidade)\n",
    "solucao,_,_ = solucao_inicial()\n",
    "busca_vizinhanca(solucao,500,2)"
   ]
  },
  {
   "cell_type": "markdown",
   "metadata": {},
   "source": [
    "### Simulated Annealing"
   ]
  },
  {
   "cell_type": "code",
   "execution_count": 19,
   "metadata": {},
   "outputs": [
    {
     "name": "stdout",
     "output_type": "stream",
     "text": [
      "[1, 0, 0, 1, 0, 0, 1] 1652.0 160.0\n",
      "[0, 0, 1, 1, 0, 0, 1] 1721.0 168.0\n"
     ]
    },
    {
     "data": {
      "text/plain": [
       "([0, 0, 1, 1, 0, 0, 1], 1721.0, 168.0)"
      ]
     },
     "execution_count": 19,
     "metadata": {},
     "output_type": "execute_result"
    }
   ],
   "source": [
    "capacidade = 170\n",
    "beneficios, pesos, lucros = inti_variables(capacidade)\n",
    "simulated_annealing(T = 100, cooling = 0.9, L = 1 )"
   ]
  },
  {
   "cell_type": "markdown",
   "metadata": {},
   "source": [
    "________\n",
    "## Capacidade Mochila 750"
   ]
  },
  {
   "cell_type": "markdown",
   "metadata": {},
   "source": [
    "### Hill Climbing"
   ]
  },
  {
   "cell_type": "code",
   "execution_count": 20,
   "metadata": {},
   "outputs": [
    {
     "name": "stdout",
     "output_type": "stream",
     "text": [
      "[1, 1, 1, 0, 1, 0, 0, 1, 0, 0, 0, 1, 0, 1, 1] 1446.0 747.0\n"
     ]
    },
    {
     "data": {
      "text/plain": [
       "([1, 1, 1, 0, 1, 0, 0, 1, 0, 0, 0, 1, 0, 1, 1], 1446.0, 747.0)"
      ]
     },
     "execution_count": 20,
     "metadata": {},
     "output_type": "execute_result"
    }
   ],
   "source": [
    "capacidade = 750\n",
    "beneficios, pesos, lucros = inti_variables(capacidade)\n",
    "solucao,_,_ = solucao_inicial()\n",
    "busca_vizinhanca(solucao,500,10)"
   ]
  },
  {
   "cell_type": "markdown",
   "metadata": {},
   "source": [
    "### Simulated Annealing"
   ]
  },
  {
   "cell_type": "code",
   "execution_count": 21,
   "metadata": {},
   "outputs": [
    {
     "name": "stdout",
     "output_type": "stream",
     "text": [
      "[0, 1, 0, 1, 1, 0, 1, 1, 1, 0, 1, 0, 0, 0, 1] 1444.0 747.0\n",
      "[0, 1, 1, 0, 0, 1, 1, 1, 1, 0, 1, 0, 0, 0, 1] 1450.0 749.0\n",
      "[0, 1, 1, 0, 1, 0, 1, 1, 1, 0, 0, 0, 1, 0, 1] 1454.0 749.0\n",
      "[1, 0, 1, 0, 1, 0, 1, 1, 1, 0, 0, 0, 0, 1, 1] 1458.0 749.0\n"
     ]
    },
    {
     "data": {
      "text/plain": [
       "([1, 0, 1, 0, 1, 0, 1, 1, 1, 0, 0, 0, 0, 1, 1], 1458.0, 749.0)"
      ]
     },
     "execution_count": 21,
     "metadata": {},
     "output_type": "execute_result"
    }
   ],
   "source": [
    "capacidade = 750\n",
    "beneficios, pesos, lucros = inti_variables(capacidade)\n",
    "simulated_annealing(T = 300, cooling = 0.99, L = 20 )"
   ]
  },
  {
   "cell_type": "markdown",
   "metadata": {},
   "source": [
    "_________\n",
    "## Capacidade Mochila 6404180"
   ]
  },
  {
   "cell_type": "markdown",
   "metadata": {},
   "source": [
    "### Hill Climbing"
   ]
  },
  {
   "cell_type": "code",
   "execution_count": 22,
   "metadata": {},
   "outputs": [
    {
     "data": {
      "text/plain": [
       "([1, 1, 0, 1, 0, 1, 1, 0, 0, 1, 1, 0, 1, 0, 0, 1, 1, 0, 0, 1, 0, 1, 1, 1],\n",
       " 13415886.0,\n",
       " 6323699.0)"
      ]
     },
     "execution_count": 22,
     "metadata": {},
     "output_type": "execute_result"
    }
   ],
   "source": [
    "capacidade = 6404180\n",
    "beneficios, pesos, lucros = inti_variables(capacidade)\n",
    "solucao,_,_ = solucao_inicial()\n",
    "busca_vizinhanca(solucao,2000,5)"
   ]
  },
  {
   "cell_type": "markdown",
   "metadata": {},
   "source": [
    "### Simulated Annealing"
   ]
  },
  {
   "cell_type": "code",
   "execution_count": 23,
   "metadata": {},
   "outputs": [
    {
     "name": "stdout",
     "output_type": "stream",
     "text": [
      "[0, 1, 0, 1, 0, 1, 1, 0, 0, 1, 1, 0, 1, 0, 0, 1, 1, 1, 0, 1, 0, 1, 1, 1] 13443947.0 6387252.0\n",
      "[0, 1, 0, 1, 0, 1, 1, 0, 0, 1, 1, 0, 1, 0, 1, 1, 1, 0, 0, 0, 0, 1, 1, 1] 13477838.0 6398529.0\n",
      "[1, 1, 0, 1, 1, 0, 1, 0, 0, 1, 1, 0, 1, 0, 0, 1, 0, 0, 0, 0, 0, 1, 1, 1] 13521334.0 6392842.0\n",
      "[1, 1, 0, 1, 1, 1, 0, 0, 0, 1, 1, 0, 1, 0, 0, 1, 0, 0, 0, 0, 0, 1, 1, 1] 13549094.0 6402560.0\n"
     ]
    },
    {
     "data": {
      "text/plain": [
       "([1, 1, 0, 1, 1, 1, 0, 0, 0, 1, 1, 0, 1, 0, 0, 1, 0, 0, 0, 0, 0, 1, 1, 1],\n",
       " 13549094.0,\n",
       " 6402560.0)"
      ]
     },
     "execution_count": 23,
     "metadata": {},
     "output_type": "execute_result"
    }
   ],
   "source": [
    "capacidade = 6404180\n",
    "beneficios, pesos, lucros = inti_variables(capacidade)\n",
    "simulated_annealing(T = 500, cooling = 0.99, L = 50 )"
   ]
  }
 ],
 "metadata": {
  "kernelspec": {
   "display_name": "Python 3",
   "language": "python",
   "name": "python3"
  },
  "language_info": {
   "codemirror_mode": {
    "name": "ipython",
    "version": 3
   },
   "file_extension": ".py",
   "mimetype": "text/x-python",
   "name": "python",
   "nbconvert_exporter": "python",
   "pygments_lexer": "ipython3",
   "version": "3.7.6"
  }
 },
 "nbformat": 4,
 "nbformat_minor": 2
}
